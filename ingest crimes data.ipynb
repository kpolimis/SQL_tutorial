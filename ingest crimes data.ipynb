{
 "cells": [
  {
   "cell_type": "markdown",
   "metadata": {},
   "source": [
    "### Importing data to a SQL database\n",
    "\n",
    "Once you have a database up and running, one of the tasks you'll do most often is import data into a new or existing table. There are many different ways to do this. Here we illustrate how you can use some simple Python packages to connect to the database and import the Seattle Crimes csv file.\n"
   ]
  },
  {
   "cell_type": "markdown",
   "metadata": {},
   "source": [
    "#### import the libraries\n",
    "We will use [pandas](pandas.pydata.org) which is a fantastic data analysis toolkit that happens to have some very simple methods for moving data to and from a database. The datbase connections are handled through pandas using [sqlalchemy](www.sqlalchemy.org)."
   ]
  },
  {
   "cell_type": "code",
   "execution_count": 1,
   "metadata": {
    "collapsed": false
   },
   "outputs": [],
   "source": [
    "import pandas as pd\n",
    "from sqlalchemy import create_engine\n",
    "import sqlalchemy.types as types"
   ]
  },
  {
   "cell_type": "markdown",
   "metadata": {},
   "source": [
    "#### connecting to the database\n",
    "Our next step is to pass some database connection information to pandas/sqlalchemy so that we can establish a connection. We create a database \"engine\" object that is then used in subsequent operations as a portal to/from the database."
   ]
  },
  {
   "cell_type": "code",
   "execution_count": 2,
   "metadata": {
    "collapsed": false
   },
   "outputs": [],
   "source": [
    "host = 'dssg2016.cel0foggtnsk.us-east-1.rds.amazonaws.com'\n",
    "#user = 'dssg_student'\n",
    "#password = 'dssg2016'\n",
    "user = 'awsdssg'\n",
    "password = 'datascience2016'\n",
    "port = '5432'\n",
    "dbname = 'dssg2016'\n",
    "\n",
    "#instantiate engine to interface with database\n",
    "engine = create_engine('postgresql://' + user + ':' + password + '@' + host + ':' + port + '/' + dbname)\n"
   ]
  },
  {
   "cell_type": "markdown",
   "metadata": {},
   "source": [
    "#### issue a SQL command to test the connection"
   ]
  },
  {
   "cell_type": "code",
   "execution_count": 16,
   "metadata": {
    "collapsed": false
   },
   "outputs": [],
   "source": [
    "crimesData = pd.read_csv('SeattleCrimeIncidents.csv')"
   ]
  },
  {
   "cell_type": "code",
   "execution_count": 8,
   "metadata": {
    "collapsed": false
   },
   "outputs": [
    {
     "data": {
      "text/plain": [
       "<matplotlib.axes._subplots.AxesSubplot at 0x17953bfee80>"
      ]
     },
     "execution_count": 8,
     "metadata": {},
     "output_type": "execute_result"
    },
    {
     "data": {
      "image/png": "[encoded data removed]",
      "text/plain": [
       "<matplotlib.figure.Figure at 0x17953bf6b70>"
      ]
     },
     "metadata": {},
     "output_type": "display_data"
    }
   ],
   "source": [
    "%matplotlib inline\n",
    "crimesData.Longitude.plot()\n"
   ]
  },
  {
   "cell_type": "code",
   "execution_count": 30,
   "metadata": {
    "collapsed": false
   },
   "outputs": [],
   "source": [
    "# this failed using Pandas\n",
    "crimesData[0:1].to_sql('crimes',engine,\n",
    "        dtype={'Offense Code':types.String(),\n",
    "         'Offense Code Extension':types.Integer(),\n",
    "         'Offense Type':types.String(),\n",
    "         'Summary Offense Code':types.String(),\n",
    "         'Summarized Offense Description':types.String(),\n",
    "         'Date Reported':types.DateTime(),\n",
    "         'Occurred Date or Date Range Start':types.DateTime(),\n",
    "         'Occurred Date Range End':types.DateTime(),\n",
    "         'Hundred Block Location':types.String(),\n",
    "         'District/Sector':types.String(),\n",
    "         'Zone/Beat':types.String(),\n",
    "         'Census Tract 2000':types.Float(),\n",
    "         'Longitude':types.Float(),\n",
    "         'Latitude':types.Float(),\n",
    "         'Month':types.Integer(),\n",
    "         'Year':types.Integer()},\n",
    "                 chunksize = 2000)\n"
   ]
  },
  {
   "cell_type": "code",
   "execution_count": 31,
   "metadata": {
    "collapsed": false
   },
   "outputs": [
    {
     "data": {
      "text/plain": [
       "<sqlalchemy.engine.result.ResultProxy at 0x17958c48cf8>"
      ]
     },
     "execution_count": 31,
     "metadata": {},
     "output_type": "execute_result"
    }
   ],
   "source": [
    "# generate primary key\n",
    "engine.execute(\"ALTER TABLE seattlecrimeincidents ADD COLUMN gid SERIAL;\")\n",
    "engine.execute(\"UPDATE seattlecrimeincidents SET gid = nextval(pg_get_serial_sequence('crimes','gid'));\")\n",
    "engine.execute(\"ALTER TABLE seattlecrimeincidents ADD PRIMARY KEY(gid);\")"
   ]
  },
  {
   "cell_type": "code",
   "execution_count": 3,
   "metadata": {
    "collapsed": false
   },
   "outputs": [
    {
     "data": {
      "text/plain": [
       "<sqlalchemy.engine.result.ResultProxy at 0x22eef60d080>"
      ]
     },
     "execution_count": 3,
     "metadata": {},
     "output_type": "execute_result"
    }
   ],
   "source": [
    "# add geometry and generate from lat/long\n",
    "engine.execute(\"ALTER TABLE seattlecrimeincidents ADD COLUMN geom geometry(Point, 4326);\")\n"
   ]
  },
  {
   "cell_type": "code",
   "execution_count": 7,
   "metadata": {
    "collapsed": false
   },
   "outputs": [
    {
     "data": {
      "text/plain": [
       "<sqlalchemy.engine.result.ResultProxy at 0x22eef894f98>"
      ]
     },
     "execution_count": 7,
     "metadata": {},
     "output_type": "execute_result"
    }
   ],
   "source": [
    "engine.execute(\"\"\"UPDATE seattlecrimeincidents SET geom = ST_setSRID(ST_MakePoint(\"Longitude\",\"Latitude\"),4326);\"\"\")"
   ]
  }
 ],
 "metadata": {
  "kernelspec": {
   "display_name": "Python 3",
   "language": "python",
   "name": "python3"
  },
  "language_info": {
   "codemirror_mode": {
    "name": "ipython",
    "version": 3
   },
   "file_extension": ".py",
   "mimetype": "text/x-python",
   "name": "python",
   "nbconvert_exporter": "python",
   "pygments_lexer": "ipython3",
   "version": "3.5.1"
  }
 },
 "nbformat": 4,
 "nbformat_minor": 0
}
